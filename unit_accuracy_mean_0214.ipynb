{
 "cells": [
  {
   "cell_type": "code",
   "execution_count": 1,
   "metadata": {
    "collapsed": true
   },
   "outputs": [],
   "source": [
    "import os\n",
    "\n",
    "import numpy as np\n",
    "import pandas as  pd\n",
    "import matplotlib.pyplot as plt\n",
    "import gd_parameters as gd\n",
    "import pickle\n",
    "import bdpy\n",
    "\n",
    "from gd_features import Features\n",
    "from itertools import product\n",
    "from bdpy.stats import corrcoef\n",
    "from time import time"
   ]
  },
  {
   "cell_type": "code",
   "execution_count": 2,
   "metadata": {
    "collapsed": false
   },
   "outputs": [],
   "source": [
    "# get parameters from gd_features\n",
    "data_dir = gd.data_dir\n",
    "subject_list = gd.subject_list\n",
    "roi_list = gd.roi_list\n",
    "feature_file = gd.feature_file\n",
    "feature_type = gd.feature_type\n",
    "result_dir = gd.result_dir\n",
    "feature_file = gd.feature_file\n",
    "feature_type = gd.feature_type\n",
    "result_dir = gd.result_dir\n",
    "features = Features(os.path.join(data_dir, feature_file), feature_type)"
   ]
  },
  {
   "cell_type": "code",
   "execution_count": 6,
   "metadata": {
    "collapsed": false
   },
   "outputs": [],
   "source": [
    "with open(\"./results_alex/UnitAccuracy.pkl\", \"rb\") as f:\n",
    "    acc_unit  = pickle.load(f)"
   ]
  },
  {
   "cell_type": "code",
   "execution_count": 34,
   "metadata": {
    "collapsed": false
   },
   "outputs": [],
   "source": [
    "# remove fc8-conv\n",
    "acc_unit = acc_unit[acc_unit[\"feature\"] != \"fc8-conv\"]\n",
    "result = acc_unit.groupby([\"ROI\", \"feature\", \"unit\"]).mean()"
   ]
  },
  {
   "cell_type": "code",
   "execution_count": 39,
   "metadata": {
    "collapsed": false
   },
   "outputs": [],
   "source": [
    "with open(os.path.join(\"./results_alex/\",\"UnitAccuracyMean.pkl\"), \"wb\") as f:\n",
    "    pickle.dump(result, f)"
   ]
  }
 ],
 "metadata": {
  "kernelspec": {
   "display_name": "Python 2",
   "language": "python",
   "name": "python2"
  },
  "language_info": {
   "codemirror_mode": {
    "name": "ipython",
    "version": 2
   },
   "file_extension": ".py",
   "mimetype": "text/x-python",
   "name": "python",
   "nbconvert_exporter": "python",
   "pygments_lexer": "ipython2",
   "version": "2.7.12"
  }
 },
 "nbformat": 4,
 "nbformat_minor": 0
}
