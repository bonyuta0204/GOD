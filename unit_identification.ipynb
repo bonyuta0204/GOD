{
 "cells": [
  {
   "cell_type": "code",
   "execution_count": 1,
   "metadata": {
    "collapsed": false
   },
   "outputs": [
    {
     "name": "stderr",
     "output_type": "stream",
     "text": [
      "/usr/local/caffe/python/caffe/pycaffe.py:13: RuntimeWarning: to-Python converter for boost::shared_ptr<caffe::Net<float> > already registered; second conversion method ignored.\n",
      "  from ._caffe import Net, SGDSolver, NesterovSolver, AdaGradSolver, \\\n",
      "/usr/local/caffe/python/caffe/pycaffe.py:13: RuntimeWarning: to-Python converter for boost::shared_ptr<caffe::Blob<float> > already registered; second conversion method ignored.\n",
      "  from ._caffe import Net, SGDSolver, NesterovSolver, AdaGradSolver, \\\n",
      "/usr/local/caffe/python/caffe/pycaffe.py:13: RuntimeWarning: to-Python converter for boost::shared_ptr<caffe::Solver<float> > already registered; second conversion method ignored.\n",
      "  from ._caffe import Net, SGDSolver, NesterovSolver, AdaGradSolver, \\\n"
     ]
    }
   ],
   "source": [
    "import os\n",
    "import numpy as np\n",
    "\n",
    "from gd_cnn import CnnModel"
   ]
  },
  {
   "cell_type": "code",
   "execution_count": 2,
   "metadata": {
    "collapsed": false
   },
   "outputs": [],
   "source": [
    "# Feture selection settings\n",
    "num_features = 1000\n",
    "\n",
    "# CNN model settings\n",
    "model_def = './data/cnn/alexnet_imagenet_full_conv/alexnet_imagenet_full_conv.prototxt'\n",
    "model_param = './data/cnn/alexnet_imagenet_full_conv/alexnet_imagenet_full_conv.caffemodel'\n",
    "cnn_layers = ('conv1', 'conv2', 'conv3', 'conv4', 'conv5', 'fc6-conv', 'fc7-conv', 'fc8-conv')\n",
    "\n",
    "mean_image_file = './data/images/ilsvrc_2012_mean.npy'  # ImageNet Large Scale Visual Recognition Challenge 2012\n",
    "\n",
    "\"\"\"\n",
    "# Stimulus image settings\n",
    "exp_stimuli_dir = ('./data/images/image_training', './data/images/image_test')\n",
    "catave_image_dir = ('./data/images/category_test', './data/images/category_candidate')\n",
    "\n",
    "# Results file\n",
    "data_dir = './data_alex'\n",
    "featuredir = os.path.join(data_dir, 'ImageFeatures_caffe_test/')\n",
    "outputfile = os.path.join(data_dir, 'ImageFeatures_caffe_test.pkl')\n",
    "\n",
    "\"\"\"\n",
    "\n",
    "# Misc settings\n",
    "rand_seed = 2501\n",
    "\n",
    "model = CnnModel(model_def, model_param, mean_image_file, batch_size=128, rand_seed=rand_seed)\n",
    "net = model.net\n",
    "feat_ind = model.feat_index"
   ]
  },
  {
   "cell_type": "code",
   "execution_count": 6,
   "metadata": {
    "collapsed": false
   },
   "outputs": [],
   "source": [
    "def get_channel(blob, n):\n",
    "    \"\"\"\n",
    "    return index of channel wehere unit n in blob belongs to\n",
    "    \"\"\"\n",
    "    ind = feat_ind[blob][n - 1]\n",
    "    blob_shape = net.blobs[blob].data[0].shape\n",
    "    resolution = blob_shape[1] * blob_shape[2]\n",
    "    channel = ind // resolution\n",
    "    \n",
    "    return channel"
   ]
  }
 ],
 "metadata": {
  "kernelspec": {
   "display_name": "Python 2",
   "language": "python",
   "name": "python2"
  },
  "language_info": {
   "codemirror_mode": {
    "name": "ipython",
    "version": 2
   },
   "file_extension": ".py",
   "mimetype": "text/x-python",
   "name": "python",
   "nbconvert_exporter": "python",
   "pygments_lexer": "ipython2",
   "version": "2.7.12"
  }
 },
 "nbformat": 4,
 "nbformat_minor": 0
}
