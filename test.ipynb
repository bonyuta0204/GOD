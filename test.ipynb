{
 "cells": [
  {
   "cell_type": "code",
   "execution_count": 13,
   "metadata": {
    "collapsed": false
   },
   "outputs": [],
   "source": [
    "import cPickle as pickle\n",
    "from makedata_features_alexnet import add_features_df"
   ]
  },
  {
   "cell_type": "markdown",
   "metadata": {
    "collapsed": false
   },
   "source": [
    "## Manually load DataFrame and integrate the result"
   ]
  },
  {
   "cell_type": "code",
   "execution_count": 14,
   "metadata": {
    "collapsed": false
   },
   "outputs": [],
   "source": [
    "with open(\"./results_alex/FeaturePrediction.pkl\", \"rb\") as f:\n",
    "    result = pickle.load(f)"
   ]
  },
  {
   "cell_type": "code",
   "execution_count": 15,
   "metadata": {
    "collapsed": false
   },
   "outputs": [],
   "source": [
    "with open(\"./results_alex/CategoryIdentification.pkl\", \"rb\") as f:\n",
    "    category = pickle.load(f)"
   ]
  },
  {
   "cell_type": "code",
   "execution_count": 21,
   "metadata": {
    "collapsed": false
   },
   "outputs": [],
   "source": [
    "with open(\"./results_alex/Subject1/VC/conv5.pkl\", \"rb\") as f:\n",
    "    conv5 = pickle.load(f)"
   ]
  },
  {
   "cell_type": "code",
   "execution_count": 24,
   "metadata": {
    "collapsed": false
   },
   "outputs": [],
   "source": [
    "with open(\"./data/ImageFeatures_caffe.pkl\", \"rb\") as f:\n",
    "    feat = pickle.load(f)"
   ]
  },
  {
   "cell_type": "code",
   "execution_count": 36,
   "metadata": {
    "collapsed": false
   },
   "outputs": [
    {
     "data": {
      "text/plain": [
       "(1750,)"
      ]
     },
     "execution_count": 36,
     "metadata": {},
     "output_type": "execute_result"
    }
   ],
   "source": [
    "conv5[\"predict_percept\"][0].shape"
   ]
  },
  {
   "cell_type": "code",
   "execution_count": 39,
   "metadata": {
    "collapsed": false
   },
   "outputs": [
    {
     "data": {
      "text/plain": [
       "50"
      ]
     },
     "execution_count": 39,
     "metadata": {},
     "output_type": "execute_result"
    }
   ],
   "source": [
    "len(conv5[\"predict_percept_catave\"][0])"
   ]
  },
  {
   "cell_type": "code",
   "execution_count": 41,
   "metadata": {
    "collapsed": false
   },
   "outputs": [
    {
     "data": {
      "text/html": [
       "<div>\n",
       "<table border=\"1\" class=\"dataframe\">\n",
       "  <thead>\n",
       "    <tr style=\"text-align: right;\">\n",
       "      <th></th>\n",
       "      <th>roi</th>\n",
       "      <th>predict_percept_catave</th>\n",
       "      <th>predict_percept</th>\n",
       "      <th>predict_imagery_catave</th>\n",
       "      <th>category_test_percept</th>\n",
       "      <th>predict_imagery</th>\n",
       "      <th>category_test_imagery</th>\n",
       "      <th>feature</th>\n",
       "      <th>unit</th>\n",
       "      <th>subject</th>\n",
       "    </tr>\n",
       "  </thead>\n",
       "  <tbody>\n",
       "    <tr>\n",
       "      <th>0</th>\n",
       "      <td>VC</td>\n",
       "      <td>[1.63464668722, 0.855075587982, 2.58394619662,...</td>\n",
       "      <td>[2.74150204982, 1.90113732001, 2.54163939274, ...</td>\n",
       "      <td>[2.49851458025, 5.32126527957, 4.45900432399, ...</td>\n",
       "      <td>[1443537.0, 1621127.0, 1677366.0, 1846331.0, 1...</td>\n",
       "      <td>[-1.34485524556, 2.4298316331, -0.798696457918...</td>\n",
       "      <td>[1443537.0, 1621127.0, 1677366.0, 1846331.0, 1...</td>\n",
       "      <td>conv5</td>\n",
       "      <td>1</td>\n",
       "      <td>Subject1</td>\n",
       "    </tr>\n",
       "    <tr>\n",
       "      <th>1</th>\n",
       "      <td>VC</td>\n",
       "      <td>[4.71836053678, 3.13566747037, 3.04075499109, ...</td>\n",
       "      <td>[-2.94897994189, -3.66745009018, 2.92610453651...</td>\n",
       "      <td>[6.82975284445, 9.42678239165, 9.0897926061, 5...</td>\n",
       "      <td>[1443537.0, 1621127.0, 1677366.0, 1846331.0, 1...</td>\n",
       "      <td>[0.321398854548, 6.99351065821, 9.69743385673,...</td>\n",
       "      <td>[1443537.0, 1621127.0, 1677366.0, 1846331.0, 1...</td>\n",
       "      <td>conv5</td>\n",
       "      <td>2</td>\n",
       "      <td>Subject1</td>\n",
       "    </tr>\n",
       "    <tr>\n",
       "      <th>2</th>\n",
       "      <td>VC</td>\n",
       "      <td>[1.05509609012, 0.115618207743, 0.851875222032...</td>\n",
       "      <td>[2.4961193091, 3.14591843538, 2.62434273477, 2...</td>\n",
       "      <td>[0.562815572152, 1.82759047811, 1.9913201203, ...</td>\n",
       "      <td>[1443537.0, 1621127.0, 1677366.0, 1846331.0, 1...</td>\n",
       "      <td>[-1.66536904036, -2.77171527791, -2.1813250445...</td>\n",
       "      <td>[1443537.0, 1621127.0, 1677366.0, 1846331.0, 1...</td>\n",
       "      <td>conv5</td>\n",
       "      <td>3</td>\n",
       "      <td>Subject1</td>\n",
       "    </tr>\n",
       "    <tr>\n",
       "      <th>3</th>\n",
       "      <td>VC</td>\n",
       "      <td>[-0.427912591196, 3.885694403, 3.08502628079, ...</td>\n",
       "      <td>[-1.18498127933, 2.23851267372, 2.0135785914, ...</td>\n",
       "      <td>[6.26622734955, 7.27219897492, 8.36797270112, ...</td>\n",
       "      <td>[1443537.0, 1621127.0, 1677366.0, 1846331.0, 1...</td>\n",
       "      <td>[5.21589323996, 1.47568573151, 3.4463372811, 4...</td>\n",
       "      <td>[1443537.0, 1621127.0, 1677366.0, 1846331.0, 1...</td>\n",
       "      <td>conv5</td>\n",
       "      <td>4</td>\n",
       "      <td>Subject1</td>\n",
       "    </tr>\n",
       "    <tr>\n",
       "      <th>4</th>\n",
       "      <td>VC</td>\n",
       "      <td>[0.812614535827, 0.32500024644, 0.133033855024...</td>\n",
       "      <td>[-0.00722414347418, 2.72991801899, -0.38230339...</td>\n",
       "      <td>[1.98486331805, 2.84129373217, 2.66169194931, ...</td>\n",
       "      <td>[1443537.0, 1621127.0, 1677366.0, 1846331.0, 1...</td>\n",
       "      <td>[7.56357667968, 10.3581588882, 6.75668709761, ...</td>\n",
       "      <td>[1443537.0, 1621127.0, 1677366.0, 1846331.0, 1...</td>\n",
       "      <td>conv5</td>\n",
       "      <td>5</td>\n",
       "      <td>Subject1</td>\n",
       "    </tr>\n",
       "  </tbody>\n",
       "</table>\n",
       "</div>"
      ],
      "text/plain": [
       "  roi                             predict_percept_catave  \\\n",
       "0  VC  [1.63464668722, 0.855075587982, 2.58394619662,...   \n",
       "1  VC  [4.71836053678, 3.13566747037, 3.04075499109, ...   \n",
       "2  VC  [1.05509609012, 0.115618207743, 0.851875222032...   \n",
       "3  VC  [-0.427912591196, 3.885694403, 3.08502628079, ...   \n",
       "4  VC  [0.812614535827, 0.32500024644, 0.133033855024...   \n",
       "\n",
       "                                     predict_percept  \\\n",
       "0  [2.74150204982, 1.90113732001, 2.54163939274, ...   \n",
       "1  [-2.94897994189, -3.66745009018, 2.92610453651...   \n",
       "2  [2.4961193091, 3.14591843538, 2.62434273477, 2...   \n",
       "3  [-1.18498127933, 2.23851267372, 2.0135785914, ...   \n",
       "4  [-0.00722414347418, 2.72991801899, -0.38230339...   \n",
       "\n",
       "                              predict_imagery_catave  \\\n",
       "0  [2.49851458025, 5.32126527957, 4.45900432399, ...   \n",
       "1  [6.82975284445, 9.42678239165, 9.0897926061, 5...   \n",
       "2  [0.562815572152, 1.82759047811, 1.9913201203, ...   \n",
       "3  [6.26622734955, 7.27219897492, 8.36797270112, ...   \n",
       "4  [1.98486331805, 2.84129373217, 2.66169194931, ...   \n",
       "\n",
       "                               category_test_percept  \\\n",
       "0  [1443537.0, 1621127.0, 1677366.0, 1846331.0, 1...   \n",
       "1  [1443537.0, 1621127.0, 1677366.0, 1846331.0, 1...   \n",
       "2  [1443537.0, 1621127.0, 1677366.0, 1846331.0, 1...   \n",
       "3  [1443537.0, 1621127.0, 1677366.0, 1846331.0, 1...   \n",
       "4  [1443537.0, 1621127.0, 1677366.0, 1846331.0, 1...   \n",
       "\n",
       "                                     predict_imagery  \\\n",
       "0  [-1.34485524556, 2.4298316331, -0.798696457918...   \n",
       "1  [0.321398854548, 6.99351065821, 9.69743385673,...   \n",
       "2  [-1.66536904036, -2.77171527791, -2.1813250445...   \n",
       "3  [5.21589323996, 1.47568573151, 3.4463372811, 4...   \n",
       "4  [7.56357667968, 10.3581588882, 6.75668709761, ...   \n",
       "\n",
       "                               category_test_imagery feature  unit   subject  \n",
       "0  [1443537.0, 1621127.0, 1677366.0, 1846331.0, 1...   conv5     1  Subject1  \n",
       "1  [1443537.0, 1621127.0, 1677366.0, 1846331.0, 1...   conv5     2  Subject1  \n",
       "2  [1443537.0, 1621127.0, 1677366.0, 1846331.0, 1...   conv5     3  Subject1  \n",
       "3  [1443537.0, 1621127.0, 1677366.0, 1846331.0, 1...   conv5     4  Subject1  \n",
       "4  [1443537.0, 1621127.0, 1677366.0, 1846331.0, 1...   conv5     5  Subject1  "
      ]
     },
     "execution_count": 41,
     "metadata": {},
     "output_type": "execute_result"
    }
   ],
   "source": [
    "conv5.head()"
   ]
  },
  {
   "cell_type": "code",
   "execution_count": null,
   "metadata": {
    "collapsed": true
   },
   "outputs": [],
   "source": []
  }
 ],
 "metadata": {
  "kernelspec": {
   "display_name": "Python 2",
   "language": "python",
   "name": "python2"
  },
  "language_info": {
   "codemirror_mode": {
    "name": "ipython",
    "version": 2
   },
   "file_extension": ".py",
   "mimetype": "text/x-python",
   "name": "python",
   "nbconvert_exporter": "python",
   "pygments_lexer": "ipython2",
   "version": "2.7.12"
  }
 },
 "nbformat": 4,
 "nbformat_minor": 0
}
