{
 "cells": [
  {
   "cell_type": "code",
   "execution_count": 24,
   "metadata": {
    "collapsed": true
   },
   "outputs": [],
   "source": [
    "from gd_cnn import CnnModel\n",
    "import matplotlib.pyplot as plt\n",
    "import os\n",
    "\n",
    "%matplotlib inline\n",
    "import pandas as pd\n",
    "import pickle"
   ]
  },
  {
   "cell_type": "code",
   "execution_count": 5,
   "metadata": {
    "collapsed": false
   },
   "outputs": [],
   "source": [
    "# Feture selection settings\n",
    "num_features = 4096\n",
    "\n",
    "# CNN model settings\n",
    "model_def = './data/cnn/caffe_reference_imagenet/caffe_reference_imagenet.prototxt'\n",
    "model_param = './data/cnn/caffe_reference_imagenet/caffe_reference_imagenet.caffemodel'\n",
    "cnn_layers = ('conv1', 'conv2', 'conv3', 'conv4', 'conv5', 'fc6', 'fc7', 'fc8')\n",
    "\n",
    "mean_image_file = './data/images/ilsvrc_2012_mean.npy'  # ImageNet Large Scale Visual Recognition Challenge 2012\n",
    "\n",
    "# Stimulus image settings\n",
    "exp_stimuli_dir = ('./data/images/image_training', './data/images/image_test')\n",
    "catave_image_dir = ('./data/images/category_test', './data/images/category_candidate')\n",
    "\n",
    "# Results file\n",
    "data_dir = './data_original_alex'\n",
    "featuredir = os.path.join(data_dir, 'ImageFeatures_caffe_test/')\n",
    "outputfile = os.path.join(data_dir, 'ImageFeatures_caffe_test.pkl')\n",
    "\n",
    "# Misc settings\n",
    "rand_seed = 2501\n",
    "\n",
    "model = CnnModel(model_def, model_param, mean_image_file, batch_size=128, rand_seed=rand_seed)"
   ]
  },
  {
   "cell_type": "code",
   "execution_count": 25,
   "metadata": {
    "collapsed": false
   },
   "outputs": [],
   "source": [
    "with open(\"./data_original_alex/ImageFeatures_caffe_test/feature_category_ave_candidate.pkl-01708998.pkl\", \"rb\") as f:\n",
    "    feat = pickle.load(f)"
   ]
  },
  {
   "cell_type": "code",
   "execution_count": 26,
   "metadata": {
    "collapsed": false
   },
   "outputs": [
    {
     "data": {
      "text/html": [
       "<div>\n",
       "<table border=\"1\" class=\"dataframe\">\n",
       "  <thead>\n",
       "    <tr style=\"text-align: right;\">\n",
       "      <th></th>\n",
       "      <th>conv1</th>\n",
       "      <th>conv2</th>\n",
       "      <th>conv3</th>\n",
       "      <th>conv4</th>\n",
       "      <th>conv5</th>\n",
       "      <th>fc6</th>\n",
       "      <th>fc7</th>\n",
       "      <th>fc8</th>\n",
       "    </tr>\n",
       "  </thead>\n",
       "  <tbody>\n",
       "  </tbody>\n",
       "</table>\n",
       "</div>"
      ],
      "text/plain": [
       "Empty DataFrame\n",
       "Columns: [conv1, conv2, conv3, conv4, conv5, fc6, fc7, fc8]\n",
       "Index: []"
      ]
     },
     "execution_count": 26,
     "metadata": {},
     "output_type": "execute_result"
    }
   ],
   "source": [
    "feat"
   ]
  },
  {
   "cell_type": "code",
   "execution_count": 27,
   "metadata": {
    "collapsed": false
   },
   "outputs": [
    {
     "data": {
      "text/plain": [
       "(0, 8)"
      ]
     },
     "execution_count": 27,
     "metadata": {},
     "output_type": "execute_result"
    }
   ],
   "source": [
    "feat.shape"
   ]
  },
  {
   "cell_type": "code",
   "execution_count": null,
   "metadata": {
    "collapsed": true
   },
   "outputs": [],
   "source": []
  }
 ],
 "metadata": {
  "kernelspec": {
   "display_name": "Python 2",
   "language": "python",
   "name": "python2"
  },
  "language_info": {
   "codemirror_mode": {
    "name": "ipython",
    "version": 2
   },
   "file_extension": ".py",
   "mimetype": "text/x-python",
   "name": "python",
   "nbconvert_exporter": "python",
   "pygments_lexer": "ipython2",
   "version": "2.7.12"
  }
 },
 "nbformat": 4,
 "nbformat_minor": 0
}
